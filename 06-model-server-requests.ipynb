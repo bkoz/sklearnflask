{
 "cells": [
  {
   "cell_type": "code",
   "execution_count": 4,
   "metadata": {},
   "outputs": [
    {
     "name": "stdout",
     "output_type": "stream",
     "text": [
      "Model wiped\n",
      "Model training, Success. \n",
      "Trained in 0.01524 seconds. \n",
      "Model training score: 0.835016835016835.\n",
      "<Response [200]>\n",
      "{\n",
      "  \"prediction\": [\n",
      "    1, \n",
      "    0\n",
      "  ]\n",
      "}\n",
      "\n"
     ]
    }
   ],
   "source": [
    "#\n",
    "# A client program that makes REST API calls to a sklearn model server.\n",
    "#\n",
    "\n",
    "import requests\n",
    "\n",
    "url = \"http://sklearnflask-model.apps.shared-na4.na4.openshift.opentlc.com/\"\n",
    "\n",
    "# Clear and train the model.\n",
    "r = requests.get(url + \"wipe\")\n",
    "print(r.text)\n",
    "r = requests.get(url + \"train\")\n",
    "print('Model training,', r.text)\n",
    "\n",
    "#\n",
    "# Make two predictions against the titanic model hosted by a\n",
    "# REST API model server (https://github.com/bkoz/sklearnflask).\n",
    "#\n",
    "payload = [{\"Age\": 15, \"Sex\": \"female\", \"Embarked\": \"S\"}, {\"Age\": 15, \"Sex\": \"male\", \"Embarked\": \"Q\"}]\n",
    "r = requests.post(url + \"predict\", json=payload)\n",
    "\n",
    "print(r)\n",
    "print(r.text)"
   ]
  },
  {
   "cell_type": "code",
   "execution_count": null,
   "metadata": {},
   "outputs": [],
   "source": []
  }
 ],
 "metadata": {
  "kernelspec": {
   "display_name": "Python 3",
   "language": "python",
   "name": "python3"
  },
  "language_info": {
   "codemirror_mode": {
    "name": "ipython",
    "version": 3
   },
   "file_extension": ".py",
   "mimetype": "text/x-python",
   "name": "python",
   "nbconvert_exporter": "python",
   "pygments_lexer": "ipython3",
   "version": "3.7.3"
  }
 },
 "nbformat": 4,
 "nbformat_minor": 4
}